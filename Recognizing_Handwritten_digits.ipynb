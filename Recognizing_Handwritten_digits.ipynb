{
  "nbformat": 4,
  "nbformat_minor": 0,
  "metadata": {
    "colab": {
      "name": "Recognizing_Handwritten_digits.ipynb",
      "provenance": [],
      "collapsed_sections": []
    },
    "kernelspec": {
      "name": "python3",
      "display_name": "Python 3"
    }
  },
  "cells": [
    {
      "cell_type": "code",
      "metadata": {
        "id": "62dovn9rvmRI"
      },
      "source": [
        "from sklearn.model_selection import train_test_split\n",
        "from sklearn.datasets import load_digits\n",
        "from sklearn import svm\n",
        "import matplotlib.pyplot as plt\n",
        "%matplotlib inline"
      ],
      "execution_count": 1,
      "outputs": []
    },
    {
      "cell_type": "code",
      "metadata": {
        "colab": {
          "base_uri": "https://localhost:8080/"
        },
        "id": "wgPS_0x2vmUI",
        "outputId": "dd5fdf93-8f3f-4188-c52d-9879b22d5dff"
      },
      "source": [
        "digits=load_digits() #for loading and returning digits dataset\n",
        "print(digits.DESCR)"
      ],
      "execution_count": 2,
      "outputs": [
        {
          "output_type": "stream",
          "text": [
            ".. _digits_dataset:\n",
            "\n",
            "Optical recognition of handwritten digits dataset\n",
            "--------------------------------------------------\n",
            "\n",
            "**Data Set Characteristics:**\n",
            "\n",
            "    :Number of Instances: 5620\n",
            "    :Number of Attributes: 64\n",
            "    :Attribute Information: 8x8 image of integer pixels in the range 0..16.\n",
            "    :Missing Attribute Values: None\n",
            "    :Creator: E. Alpaydin (alpaydin '@' boun.edu.tr)\n",
            "    :Date: July; 1998\n",
            "\n",
            "This is a copy of the test set of the UCI ML hand-written digits datasets\n",
            "https://archive.ics.uci.edu/ml/datasets/Optical+Recognition+of+Handwritten+Digits\n",
            "\n",
            "The data set contains images of hand-written digits: 10 classes where\n",
            "each class refers to a digit.\n",
            "\n",
            "Preprocessing programs made available by NIST were used to extract\n",
            "normalized bitmaps of handwritten digits from a preprinted form. From a\n",
            "total of 43 people, 30 contributed to the training set and different 13\n",
            "to the test set. 32x32 bitmaps are divided into nonoverlapping blocks of\n",
            "4x4 and the number of on pixels are counted in each block. This generates\n",
            "an input matrix of 8x8 where each element is an integer in the range\n",
            "0..16. This reduces dimensionality and gives invariance to small\n",
            "distortions.\n",
            "\n",
            "For info on NIST preprocessing routines, see M. D. Garris, J. L. Blue, G.\n",
            "T. Candela, D. L. Dimmick, J. Geist, P. J. Grother, S. A. Janet, and C.\n",
            "L. Wilson, NIST Form-Based Handprint Recognition System, NISTIR 5469,\n",
            "1994.\n",
            "\n",
            ".. topic:: References\n",
            "\n",
            "  - C. Kaynak (1995) Methods of Combining Multiple Classifiers and Their\n",
            "    Applications to Handwritten Digit Recognition, MSc Thesis, Institute of\n",
            "    Graduate Studies in Science and Engineering, Bogazici University.\n",
            "  - E. Alpaydin, C. Kaynak (1998) Cascading Classifiers, Kybernetika.\n",
            "  - Ken Tang and Ponnuthurai N. Suganthan and Xi Yao and A. Kai Qin.\n",
            "    Linear dimensionalityreduction using relevance weighted LDA. School of\n",
            "    Electrical and Electronic Engineering Nanyang Technological University.\n",
            "    2005.\n",
            "  - Claudio Gentile. A New Approximate Maximal Margin Classification\n",
            "    Algorithm. NIPS. 2000.\n"
          ],
          "name": "stdout"
        }
      ]
    },
    {
      "cell_type": "code",
      "metadata": {
        "colab": {
          "base_uri": "https://localhost:8080/"
        },
        "id": "pCAsoX1BvmXn",
        "outputId": "44ea49e6-6a46-4fa3-8990-a85ee60a2f68"
      },
      "source": [
        "digits.images[0]"
      ],
      "execution_count": 3,
      "outputs": [
        {
          "output_type": "execute_result",
          "data": {
            "text/plain": [
              "array([[ 0.,  0.,  5., 13.,  9.,  1.,  0.,  0.],\n",
              "       [ 0.,  0., 13., 15., 10., 15.,  5.,  0.],\n",
              "       [ 0.,  3., 15.,  2.,  0., 11.,  8.,  0.],\n",
              "       [ 0.,  4., 12.,  0.,  0.,  8.,  8.,  0.],\n",
              "       [ 0.,  5.,  8.,  0.,  0.,  9.,  8.,  0.],\n",
              "       [ 0.,  4., 11.,  0.,  1., 12.,  7.,  0.],\n",
              "       [ 0.,  2., 14.,  5., 10., 12.,  0.,  0.],\n",
              "       [ 0.,  0.,  6., 13., 10.,  0.,  0.,  0.]])"
            ]
          },
          "metadata": {
            "tags": []
          },
          "execution_count": 3
        }
      ]
    },
    {
      "cell_type": "code",
      "metadata": {
        "colab": {
          "base_uri": "https://localhost:8080/"
        },
        "id": "fKBW9cpGxzGW",
        "outputId": "288d507c-e3a3-48a3-b6c4-d598def7f2be"
      },
      "source": [
        "print(len(digits.images[0]))\n",
        "print(digits.images[0].shape)"
      ],
      "execution_count": 4,
      "outputs": [
        {
          "output_type": "stream",
          "text": [
            "8\n",
            "(8, 8)\n"
          ],
          "name": "stdout"
        }
      ]
    },
    {
      "cell_type": "code",
      "metadata": {
        "colab": {
          "base_uri": "https://localhost:8080/",
          "height": 282
        },
        "id": "96iCfd9vx6Oe",
        "outputId": "9d7682d0-d029-4e9e-847f-8beec18a2cd2"
      },
      "source": [
        "plt.imshow(digits.images[0],cmap='gray')"
      ],
      "execution_count": 5,
      "outputs": [
        {
          "output_type": "execute_result",
          "data": {
            "text/plain": [
              "<matplotlib.image.AxesImage at 0x7f3c5656a850>"
            ]
          },
          "metadata": {
            "tags": []
          },
          "execution_count": 5
        },
        {
          "output_type": "display_data",
          "data": {
            "image/png": "[encoded data removed]",
            "text/plain": [
              "<Figure size 432x288 with 1 Axes>"
            ]
          },
          "metadata": {
            "tags": [],
            "needs_background": "light"
          }
        }
      ]
    },
    {
      "cell_type": "code",
      "metadata": {
        "colab": {
          "base_uri": "https://localhost:8080/"
        },
        "id": "4XPgdAlhyGGd",
        "outputId": "c23ca74f-bc5a-4833-a2f4-04966b83d7c8"
      },
      "source": [
        "print(digits.target)\n",
        "print(digits.target.size)"
      ],
      "execution_count": 6,
      "outputs": [
        {
          "output_type": "stream",
          "text": [
            "[0 1 2 ... 8 9 8]\n",
            "1797\n"
          ],
          "name": "stdout"
        }
      ]
    },
    {
      "cell_type": "code",
      "metadata": {
        "colab": {
          "base_uri": "https://localhost:8080/"
        },
        "id": "NnySOKrtyJy2",
        "outputId": "992314e8-446f-4cd5-b1a5-648596ab2307"
      },
      "source": [
        "#Data preprocessing\n",
        "print(digits.images.shape)\n",
        "print(digits.target.shape)"
      ],
      "execution_count": 7,
      "outputs": [
        {
          "output_type": "stream",
          "text": [
            "(1797, 8, 8)\n",
            "(1797,)\n"
          ],
          "name": "stdout"
        }
      ]
    },
    {
      "cell_type": "code",
      "metadata": {
        "colab": {
          "base_uri": "https://localhost:8080/"
        },
        "id": "RezbJxrhyJ11",
        "outputId": "3f770b88-0b18-448e-d654-b4be7cd79d9f"
      },
      "source": [
        "#as we can see it is image data set is of 3D ,we need to convert it into 2D\n",
        "X=digits.images.reshape(len(digits.images),-1)\n",
        "y=digits.target\n",
        "print(X.shape)\n",
        "print(y.shape)"
      ],
      "execution_count": 8,
      "outputs": [
        {
          "output_type": "stream",
          "text": [
            "(1797, 64)\n",
            "(1797,)\n"
          ],
          "name": "stdout"
        }
      ]
    },
    {
      "cell_type": "code",
      "metadata": {
        "id": "v_iJ1W70exD-"
      },
      "source": [
        "#extracting useful conclusions by using svc estimator\n",
        "svc=svm.SVC(gamma=0.001,C=100,kernel='rbf')"
      ],
      "execution_count": 9,
      "outputs": []
    },
    {
      "cell_type": "code",
      "metadata": {
        "colab": {
          "base_uri": "https://localhost:8080/"
        },
        "id": "InV7bCdBq2FP",
        "outputId": "6f8cb09a-804f-41d4-8fdc-a0d264562095"
      },
      "source": [
        "#splitting dataset into training and testing sets\n",
        "X_train,X_test,y_train,y_test=train_test_split(X,y)\n",
        "print(X_train.shape)\n",
        "print(X_test.shape)\n",
        "print(y_train.shape)\n",
        "print(y_test.shape)"
      ],
      "execution_count": 10,
      "outputs": [
        {
          "output_type": "stream",
          "text": [
            "(1347, 64)\n",
            "(450, 64)\n",
            "(1347,)\n",
            "(450,)\n"
          ],
          "name": "stdout"
        }
      ]
    },
    {
      "cell_type": "code",
      "metadata": {
        "colab": {
          "base_uri": "https://localhost:8080/"
        },
        "id": "DQoL0rBrexJn",
        "outputId": "50d7423a-1111-4aa0-d94e-9fbdd454c044"
      },
      "source": [
        "svc.fit(X_train,y_train)"
      ],
      "execution_count": 11,
      "outputs": [
        {
          "output_type": "execute_result",
          "data": {
            "text/plain": [
              "SVC(C=100, break_ties=False, cache_size=200, class_weight=None, coef0=0.0,\n",
              "    decision_function_shape='ovr', degree=3, gamma=0.001, kernel='rbf',\n",
              "    max_iter=-1, probability=False, random_state=None, shrinking=True,\n",
              "    tol=0.001, verbose=False)"
            ]
          },
          "metadata": {
            "tags": []
          },
          "execution_count": 11
        }
      ]
    },
    {
      "cell_type": "code",
      "metadata": {
        "colab": {
          "base_uri": "https://localhost:8080/"
        },
        "id": "QPbvoBu4exPQ",
        "outputId": "8659f26a-b6e1-4aa4-f368-9ac81df01f6f"
      },
      "source": [
        "y_pred=svc.predict(X_test)\n",
        "print(y_pred)"
      ],
      "execution_count": 12,
      "outputs": [
        {
          "output_type": "stream",
          "text": [
            "[0 7 3 5 6 2 3 9 9 1 8 8 7 1 8 1 5 1 2 2 5 6 9 2 2 9 4 3 0 4 2 1 3 3 3 8 5\n",
            " 5 3 0 9 9 3 6 4 2 3 2 2 3 1 8 9 5 9 0 7 8 7 2 0 1 8 4 0 5 3 3 6 5 6 8 4 8\n",
            " 0 9 4 9 0 3 3 3 3 8 7 0 6 0 1 8 9 2 4 7 8 9 2 7 3 4 8 3 9 4 9 9 2 8 8 3 3\n",
            " 2 9 3 5 8 8 2 2 6 1 1 1 1 1 0 6 8 4 9 5 4 1 5 4 5 5 5 3 3 1 8 1 4 3 2 2 3\n",
            " 2 4 9 2 7 8 1 9 4 0 7 8 4 5 7 8 3 2 6 2 5 6 8 7 8 8 2 8 2 9 7 5 8 9 8 3 6\n",
            " 9 7 3 3 4 7 3 6 4 1 5 7 3 1 3 1 6 9 0 9 0 8 1 9 0 8 6 6 3 3 3 7 3 1 3 9 8\n",
            " 4 2 4 1 9 1 0 4 6 6 1 0 4 2 5 2 8 0 3 1 8 2 9 5 5 7 5 6 9 7 7 9 3 1 7 6 1\n",
            " 0 6 5 1 7 2 6 8 1 2 5 6 2 8 0 5 7 2 8 2 9 8 3 0 9 0 6 0 5 7 0 0 0 1 6 1 9\n",
            " 5 8 0 6 6 9 1 4 6 3 6 0 6 0 5 4 1 1 0 2 8 3 1 7 0 4 1 1 2 5 1 2 6 1 5 1 3\n",
            " 5 8 1 4 7 6 0 8 0 1 8 3 6 4 3 2 6 7 8 4 2 7 3 9 0 4 3 8 2 4 6 5 3 4 6 0 7\n",
            " 6 7 3 1 5 7 4 3 3 2 5 1 4 1 1 2 6 7 6 1 9 4 7 8 5 3 2 3 6 1 0 8 2 9 5 5 3\n",
            " 5 6 7 0 3 5 1 2 2 3 6 0 5 8 1 5 1 3 5 6 7 6 9 8 8 5 0 3 6 3 3 7 4 9 0 9 3\n",
            " 7 4 2 5 2 3]\n"
          ],
          "name": "stdout"
        }
      ]
    },
    {
      "cell_type": "code",
      "metadata": {
        "colab": {
          "base_uri": "https://localhost:8080/"
        },
        "id": "5Mt4_6vCexUj",
        "outputId": "9f350daa-c9e1-4f83-9709-a16871f9e1fe"
      },
      "source": [
        "y_test"
      ],
      "execution_count": 13,
      "outputs": [
        {
          "output_type": "execute_result",
          "data": {
            "text/plain": [
              "array([0, 7, 3, 5, 6, 2, 3, 9, 9, 1, 8, 8, 7, 1, 8, 1, 5, 1, 2, 2, 5, 6,\n",
              "       9, 2, 2, 9, 4, 3, 0, 4, 2, 1, 3, 3, 3, 8, 5, 5, 3, 0, 9, 9, 3, 6,\n",
              "       4, 2, 3, 2, 2, 3, 1, 8, 9, 5, 9, 0, 7, 8, 7, 2, 0, 1, 8, 4, 0, 5,\n",
              "       3, 3, 6, 5, 6, 8, 4, 8, 0, 9, 4, 9, 0, 3, 3, 3, 3, 8, 7, 0, 6, 0,\n",
              "       1, 8, 7, 2, 4, 7, 8, 9, 2, 7, 3, 4, 8, 3, 9, 4, 9, 8, 2, 8, 8, 3,\n",
              "       3, 2, 9, 3, 5, 8, 8, 2, 2, 6, 1, 1, 1, 1, 1, 0, 6, 8, 4, 9, 5, 4,\n",
              "       1, 5, 4, 5, 5, 5, 3, 3, 1, 8, 1, 4, 3, 2, 2, 3, 2, 4, 9, 2, 7, 8,\n",
              "       1, 9, 4, 0, 7, 8, 4, 5, 7, 8, 3, 2, 6, 2, 5, 6, 8, 7, 8, 8, 2, 8,\n",
              "       2, 9, 7, 5, 8, 9, 8, 3, 6, 9, 7, 3, 3, 4, 7, 3, 6, 4, 1, 5, 7, 3,\n",
              "       1, 3, 1, 6, 9, 0, 9, 0, 8, 1, 9, 0, 8, 6, 6, 3, 3, 3, 7, 3, 1, 3,\n",
              "       9, 8, 4, 2, 4, 1, 9, 1, 0, 4, 6, 6, 1, 0, 4, 2, 5, 2, 8, 0, 3, 1,\n",
              "       8, 2, 9, 5, 5, 7, 5, 6, 9, 7, 7, 9, 3, 1, 7, 6, 1, 0, 6, 5, 1, 7,\n",
              "       2, 6, 8, 1, 2, 5, 6, 2, 8, 0, 5, 7, 2, 8, 2, 9, 8, 3, 0, 9, 0, 6,\n",
              "       0, 5, 7, 0, 0, 0, 1, 6, 1, 9, 5, 8, 0, 6, 6, 9, 1, 4, 6, 3, 6, 0,\n",
              "       6, 0, 5, 4, 1, 1, 0, 2, 8, 3, 1, 7, 0, 4, 1, 1, 2, 5, 1, 2, 6, 1,\n",
              "       5, 1, 3, 5, 8, 1, 4, 7, 6, 0, 8, 0, 1, 8, 3, 6, 4, 3, 2, 6, 7, 8,\n",
              "       4, 2, 7, 3, 9, 0, 4, 3, 8, 2, 4, 6, 5, 3, 4, 6, 0, 7, 6, 7, 3, 1,\n",
              "       5, 7, 4, 3, 3, 2, 5, 1, 4, 1, 1, 2, 6, 7, 6, 1, 9, 4, 7, 8, 5, 3,\n",
              "       2, 3, 6, 1, 0, 8, 2, 9, 5, 5, 3, 5, 6, 7, 0, 3, 5, 1, 2, 2, 3, 6,\n",
              "       0, 5, 8, 1, 5, 1, 3, 5, 6, 7, 6, 9, 8, 8, 5, 0, 3, 6, 3, 3, 7, 4,\n",
              "       9, 0, 9, 3, 7, 4, 2, 5, 2, 3])"
            ]
          },
          "metadata": {
            "tags": []
          },
          "execution_count": 13
        }
      ]
    },
    {
      "cell_type": "code",
      "metadata": {
        "colab": {
          "base_uri": "https://localhost:8080/"
        },
        "id": "S_ej6QHPfQrw",
        "outputId": "97b399ec-9794-41ed-a112-5903b7446abd"
      },
      "source": [
        "#To see how well our algorithm has performed let's find accuracy \n",
        "svc.score(X_test,y_test)"
      ],
      "execution_count": 14,
      "outputs": [
        {
          "output_type": "execute_result",
          "data": {
            "text/plain": [
              "0.9955555555555555"
            ]
          },
          "metadata": {
            "tags": []
          },
          "execution_count": 14
        }
      ]
    },
    {
      "cell_type": "code",
      "metadata": {
        "colab": {
          "base_uri": "https://localhost:8080/",
          "height": 550
        },
        "id": "F125B3SxfW6I",
        "outputId": "fbd62b74-8ca9-4f9b-90be-18ecfc3825ce"
      },
      "source": [
        "from sklearn.metrics import confusion_matrix\n",
        "import pandas as pd\n",
        "import seaborn as sn\n",
        "import numpy as np\n",
        "\n",
        "data = confusion_matrix(y_test, y_pred)\n",
        "df_cm = pd.DataFrame(data, columns=np.unique(y_test), index = np.unique(y_test))\n",
        "df_cm.index.name = 'Actual digits'\n",
        "df_cm.columns.name = 'Predicted digits'\n",
        "plt.figure(figsize = (8,8))\n",
        "sn.set(font_scale=1.4)\n",
        "plt.title('Confusion Matrix for hadwritten digits recognition')\n",
        "sn.heatmap(df_cm, annot=True,annot_kws={\"size\": 14})"
      ],
      "execution_count": 15,
      "outputs": [
        {
          "output_type": "execute_result",
          "data": {
            "text/plain": [
              "<matplotlib.axes._subplots.AxesSubplot at 0x7f3c55bb7290>"
            ]
          },
          "metadata": {
            "tags": []
          },
          "execution_count": 15
        },
        {
          "output_type": "display_data",
          "data": {
            "image/png": "[encoded data removed]",
            "text/plain": [
              "<Figure size 576x576 with 2 Axes>"
            ]
          },
          "metadata": {
            "tags": [],
            "needs_background": "light"
          }
        }
      ]
    },
    {
      "cell_type": "code",
      "metadata": {
        "colab": {
          "base_uri": "https://localhost:8080/"
        },
        "id": "XeOkEOvCf8dn",
        "outputId": "5be7b1ce-92e2-4166-c9e9-38147bba0c9e"
      },
      "source": [
        "from sklearn.metrics import classification_report\n",
        "matrix=classification_report(y_test, y_pred)\n",
        "print(\"Classification report for SVM classifier:\\n\\n\",matrix)"
      ],
      "execution_count": 16,
      "outputs": [
        {
          "output_type": "stream",
          "text": [
            "Classification report for SVM classifier:\n",
            "\n",
            "               precision    recall  f1-score   support\n",
            "\n",
            "           0       1.00      1.00      1.00        40\n",
            "           1       1.00      1.00      1.00        52\n",
            "           2       1.00      1.00      1.00        47\n",
            "           3       1.00      1.00      1.00        62\n",
            "           4       1.00      1.00      1.00        36\n",
            "           5       1.00      1.00      1.00        44\n",
            "           6       1.00      1.00      1.00        44\n",
            "           7       1.00      0.97      0.99        37\n",
            "           8       1.00      0.98      0.99        50\n",
            "           9       0.95      1.00      0.97        38\n",
            "\n",
            "    accuracy                           1.00       450\n",
            "   macro avg       0.99      1.00      1.00       450\n",
            "weighted avg       1.00      1.00      1.00       450\n",
            "\n"
          ],
          "name": "stdout"
        }
      ]
    },
    {
      "cell_type": "markdown",
      "metadata": {
        "id": "NIK673BihiF3"
      },
      "source": [
        "CASE:2"
      ]
    },
    {
      "cell_type": "code",
      "metadata": {
        "colab": {
          "base_uri": "https://localhost:8080/",
          "height": 292
        },
        "id": "j8nIcjSZyJ49",
        "outputId": "0309fda8-e736-4191-c07e-c0944c631cc2"
      },
      "source": [
        "plt.subplot(321)\n",
        "plt.imshow(digits.images[1791],cmap=plt.cm.gray_r,\n",
        "interpolation='nearest')\n",
        "plt.subplot(322)\n",
        "plt.imshow(digits.images[1792], cmap=plt.cm.gray_r,\n",
        "interpolation='nearest')\n",
        "plt.subplot(323)\n",
        "plt.imshow(digits.images[1793], cmap=plt.cm.gray_r,\n",
        "interpolation='nearest')\n",
        "plt.subplot(324)\n",
        "plt.imshow(digits.images[1794], cmap=plt.cm.gray_r,\n",
        "interpolation='nearest')\n",
        "plt.subplot(325)\n",
        "plt.imshow(digits.images[1795], cmap=plt.cm.gray_r,\n",
        "interpolation='nearest')\n",
        "plt.subplot(326)\n",
        "plt.imshow(digits.images[1796], cmap=plt.cm.gray_r,interpolation='nearest')"
      ],
      "execution_count": 17,
      "outputs": [
        {
          "output_type": "execute_result",
          "data": {
            "text/plain": [
              "<matplotlib.image.AxesImage at 0x7f3c4cde8ed0>"
            ]
          },
          "metadata": {
            "tags": []
          },
          "execution_count": 17
        },
        {
          "output_type": "display_data",
          "data": {
            "image/png": "[encoded data removed]",
            "text/plain": [
              "<Figure size 432x288 with 6 Axes>"
            ]
          },
          "metadata": {
            "tags": []
          }
        }
      ]
    },
    {
      "cell_type": "code",
      "metadata": {
        "colab": {
          "base_uri": "https://localhost:8080/"
        },
        "id": "SrIawTL2cyB5",
        "outputId": "8fbe4a68-b195-4211-9445-98fd86326a96"
      },
      "source": [
        "svc.fit(digits.data[1:1790],digits.target[1:1790])"
      ],
      "execution_count": 18,
      "outputs": [
        {
          "output_type": "execute_result",
          "data": {
            "text/plain": [
              "SVC(C=100, break_ties=False, cache_size=200, class_weight=None, coef0=0.0,\n",
              "    decision_function_shape='ovr', degree=3, gamma=0.001, kernel='rbf',\n",
              "    max_iter=-1, probability=False, random_state=None, shrinking=True,\n",
              "    tol=0.001, verbose=False)"
            ]
          },
          "metadata": {
            "tags": []
          },
          "execution_count": 18
        }
      ]
    },
    {
      "cell_type": "code",
      "metadata": {
        "colab": {
          "base_uri": "https://localhost:8080/"
        },
        "id": "ONr--mCtcyLO",
        "outputId": "ebc48bb1-ae20-4a20-d949-57886f7b8963"
      },
      "source": [
        "svc.predict(digits.data[1791:1796])"
      ],
      "execution_count": 19,
      "outputs": [
        {
          "output_type": "execute_result",
          "data": {
            "text/plain": [
              "array([4, 9, 0, 8, 9])"
            ]
          },
          "metadata": {
            "tags": []
          },
          "execution_count": 19
        }
      ]
    },
    {
      "cell_type": "code",
      "metadata": {
        "colab": {
          "base_uri": "https://localhost:8080/"
        },
        "id": "hvEglLIscyVe",
        "outputId": "664a005d-e23a-45b0-e458-a37027347322"
      },
      "source": [
        "digits.target[1791:1796]"
      ],
      "execution_count": 20,
      "outputs": [
        {
          "output_type": "execute_result",
          "data": {
            "text/plain": [
              "array([4, 9, 0, 8, 9])"
            ]
          },
          "metadata": {
            "tags": []
          },
          "execution_count": 20
        }
      ]
    },
    {
      "cell_type": "code",
      "metadata": {
        "colab": {
          "base_uri": "https://localhost:8080/"
        },
        "id": "VPu6jd0lcyiG",
        "outputId": "cd9c5307-e86f-4aed-8356-9635216af98b"
      },
      "source": [
        "svc.score(digits.data[1791:1796],digits.target[1791:1796])"
      ],
      "execution_count": 21,
      "outputs": [
        {
          "output_type": "execute_result",
          "data": {
            "text/plain": [
              "1.0"
            ]
          },
          "metadata": {
            "tags": []
          },
          "execution_count": 21
        }
      ]
    },
    {
      "cell_type": "markdown",
      "metadata": {
        "id": "JwST4TOAkKZN"
      },
      "source": [
        "CASE:3"
      ]
    },
    {
      "cell_type": "code",
      "metadata": {
        "id": "Oo5UZsZSl_4F"
      },
      "source": [
        "#splitting in a different mannner to check how accuracy gets affected  \n",
        "newsvc=svm.SVC(gamma=0.001,C=100)"
      ],
      "execution_count": 22,
      "outputs": []
    },
    {
      "cell_type": "code",
      "metadata": {
        "colab": {
          "base_uri": "https://localhost:8080/"
        },
        "id": "5h49BBR3kNb0",
        "outputId": "b727e4bd-f705-4b7f-ab61-01e3177c06ef"
      },
      "source": [
        "X_train=digits.data[1:1650]\n",
        "y_train=digits.target[1:1650]\n",
        "X_test=digits.data[1651:1797]\n",
        "y_test=digits.target[1651:1797]\n",
        "newsvc.fit(X_train,y_train)"
      ],
      "execution_count": 23,
      "outputs": [
        {
          "output_type": "execute_result",
          "data": {
            "text/plain": [
              "SVC(C=100, break_ties=False, cache_size=200, class_weight=None, coef0=0.0,\n",
              "    decision_function_shape='ovr', degree=3, gamma=0.001, kernel='rbf',\n",
              "    max_iter=-1, probability=False, random_state=None, shrinking=True,\n",
              "    tol=0.001, verbose=False)"
            ]
          },
          "metadata": {
            "tags": []
          },
          "execution_count": 23
        }
      ]
    },
    {
      "cell_type": "code",
      "metadata": {
        "colab": {
          "base_uri": "https://localhost:8080/"
        },
        "id": "LlMYVouCkNm_",
        "outputId": "04be9473-2c03-46c9-8dd9-d20d74df1a6f"
      },
      "source": [
        "newsvc.predict(X_test)"
      ],
      "execution_count": 24,
      "outputs": [
        {
          "output_type": "execute_result",
          "data": {
            "text/plain": [
              "array([4, 4, 7, 2, 2, 5, 7, 3, 5, 4, 4, 5, 0, 8, 9, 8, 0, 1, 2, 3, 4, 5,\n",
              "       6, 7, 8, 9, 0, 1, 2, 3, 4, 5, 6, 7, 8, 9, 0, 1, 2, 8, 4, 5, 6, 7,\n",
              "       8, 9, 0, 9, 5, 5, 6, 5, 0, 9, 8, 9, 8, 4, 1, 7, 7, 3, 5, 1, 0, 0,\n",
              "       2, 2, 7, 8, 2, 0, 1, 2, 6, 3, 8, 7, 5, 3, 4, 6, 6, 6, 4, 9, 1, 5,\n",
              "       0, 9, 5, 2, 8, 2, 0, 0, 1, 7, 6, 3, 2, 1, 7, 4, 6, 3, 1, 3, 9, 1,\n",
              "       7, 6, 8, 4, 5, 1, 4, 0, 5, 3, 6, 9, 6, 1, 7, 5, 4, 4, 7, 2, 8, 2,\n",
              "       2, 5, 7, 9, 5, 4, 8, 8, 4, 9, 0, 8, 9, 8])"
            ]
          },
          "metadata": {
            "tags": []
          },
          "execution_count": 24
        }
      ]
    },
    {
      "cell_type": "code",
      "metadata": {
        "colab": {
          "base_uri": "https://localhost:8080/"
        },
        "id": "HElMgr-tkNs_",
        "outputId": "9748f4b6-60d3-43d9-fff9-87e431293625"
      },
      "source": [
        "y_test"
      ],
      "execution_count": 25,
      "outputs": [
        {
          "output_type": "execute_result",
          "data": {
            "text/plain": [
              "array([4, 4, 7, 2, 2, 5, 7, 9, 5, 4, 4, 9, 0, 8, 9, 8, 0, 1, 2, 3, 4, 5,\n",
              "       6, 7, 8, 9, 0, 1, 2, 3, 4, 5, 6, 7, 8, 9, 0, 1, 2, 3, 4, 5, 6, 7,\n",
              "       8, 9, 0, 9, 5, 5, 6, 5, 0, 9, 8, 9, 8, 4, 1, 7, 7, 3, 5, 1, 0, 0,\n",
              "       2, 2, 7, 8, 2, 0, 1, 2, 6, 3, 3, 7, 3, 3, 4, 6, 6, 6, 4, 9, 1, 5,\n",
              "       0, 9, 5, 2, 8, 2, 0, 0, 1, 7, 6, 3, 2, 1, 7, 4, 6, 3, 1, 3, 9, 1,\n",
              "       7, 6, 8, 4, 3, 1, 4, 0, 5, 3, 6, 9, 6, 1, 7, 5, 4, 4, 7, 2, 8, 2,\n",
              "       2, 5, 7, 9, 5, 4, 8, 8, 4, 9, 0, 8, 9, 8])"
            ]
          },
          "metadata": {
            "tags": []
          },
          "execution_count": 25
        }
      ]
    },
    {
      "cell_type": "code",
      "metadata": {
        "colab": {
          "base_uri": "https://localhost:8080/"
        },
        "id": "4DJ359j2kgv_",
        "outputId": "d112b531-798d-408b-d2c9-11034dcba5ab"
      },
      "source": [
        "newsvc.score(X_test,y_test)"
      ],
      "execution_count": 26,
      "outputs": [
        {
          "output_type": "execute_result",
          "data": {
            "text/plain": [
              "0.958904109589041"
            ]
          },
          "metadata": {
            "tags": []
          },
          "execution_count": 26
        }
      ]
    },
    {
      "cell_type": "markdown",
      "metadata": {
        "id": "TNDMAi8MYaxR"
      },
      "source": [
        "CASE:4"
      ]
    },
    {
      "cell_type": "code",
      "metadata": {
        "colab": {
          "base_uri": "https://localhost:8080/"
        },
        "id": "foUY-MJl8_Ln",
        "outputId": "6689b323-46ed-43b8-8fd1-8cf4736b6c76"
      },
      "source": [
        "X_train=digits.data[1:1500]\n",
        "y_train=digits.target[1:1500]\n",
        "X_test=digits.data[1501:1797]\n",
        "y_test=digits.target[1501:1797]\n",
        "newsvc.fit(X_train,y_train)"
      ],
      "execution_count": 27,
      "outputs": [
        {
          "output_type": "execute_result",
          "data": {
            "text/plain": [
              "SVC(C=100, break_ties=False, cache_size=200, class_weight=None, coef0=0.0,\n",
              "    decision_function_shape='ovr', degree=3, gamma=0.001, kernel='rbf',\n",
              "    max_iter=-1, probability=False, random_state=None, shrinking=True,\n",
              "    tol=0.001, verbose=False)"
            ]
          },
          "metadata": {
            "tags": []
          },
          "execution_count": 27
        }
      ]
    },
    {
      "cell_type": "code",
      "metadata": {
        "colab": {
          "base_uri": "https://localhost:8080/"
        },
        "id": "KE3QYEDh8_P-",
        "outputId": "de216a39-d1f2-453d-e63e-7685d68b9a9e"
      },
      "source": [
        "newsvc.predict(X_test)"
      ],
      "execution_count": 28,
      "outputs": [
        {
          "output_type": "execute_result",
          "data": {
            "text/plain": [
              "array([7, 4, 6, 3, 1, 3, 9, 1, 7, 6, 8, 4, 3, 1, 4, 0, 5, 3, 6, 9, 6, 1,\n",
              "       7, 5, 4, 4, 7, 2, 8, 2, 2, 5, 7, 9, 5, 4, 8, 8, 4, 9, 0, 8, 9, 8,\n",
              "       0, 1, 2, 3, 4, 5, 6, 7, 1, 9, 0, 1, 2, 3, 4, 5, 6, 9, 0, 1, 2, 3,\n",
              "       4, 5, 6, 7, 1, 9, 4, 9, 5, 5, 6, 5, 0, 9, 8, 9, 8, 4, 1, 7, 7, 3,\n",
              "       5, 1, 0, 0, 2, 2, 7, 8, 2, 0, 1, 2, 6, 8, 3, 7, 3, 3, 4, 6, 6, 6,\n",
              "       9, 9, 1, 5, 0, 9, 5, 2, 8, 0, 1, 7, 6, 3, 2, 1, 7, 9, 6, 3, 1, 3,\n",
              "       9, 1, 7, 6, 8, 4, 3, 1, 4, 0, 5, 3, 6, 9, 6, 1, 7, 5, 4, 4, 7, 2,\n",
              "       2, 5, 7, 8, 5, 9, 4, 5, 0, 8, 9, 8, 0, 1, 2, 3, 4, 5, 6, 7, 8, 9,\n",
              "       0, 1, 2, 3, 4, 5, 6, 7, 8, 9, 0, 1, 2, 8, 4, 5, 6, 7, 8, 9, 0, 9,\n",
              "       5, 5, 6, 5, 0, 9, 8, 9, 8, 4, 1, 7, 7, 3, 5, 1, 0, 0, 2, 2, 7, 8,\n",
              "       2, 0, 1, 2, 6, 8, 8, 7, 5, 3, 4, 6, 6, 6, 4, 9, 1, 5, 0, 9, 5, 2,\n",
              "       8, 2, 0, 0, 1, 7, 6, 3, 2, 1, 7, 4, 6, 3, 1, 3, 9, 1, 7, 6, 8, 4,\n",
              "       5, 1, 4, 0, 5, 3, 6, 9, 6, 1, 7, 5, 4, 4, 7, 2, 8, 2, 2, 5, 7, 9,\n",
              "       5, 4, 8, 8, 4, 9, 0, 8, 9, 8])"
            ]
          },
          "metadata": {
            "tags": []
          },
          "execution_count": 28
        }
      ]
    },
    {
      "cell_type": "code",
      "metadata": {
        "colab": {
          "base_uri": "https://localhost:8080/"
        },
        "id": "f86ApfAC8_WP",
        "outputId": "bfac02ad-80bf-40c6-a314-8c118e8d0ebd"
      },
      "source": [
        "y_test"
      ],
      "execution_count": 29,
      "outputs": [
        {
          "output_type": "execute_result",
          "data": {
            "text/plain": [
              "array([7, 4, 6, 3, 1, 3, 9, 1, 7, 6, 8, 4, 3, 1, 4, 0, 5, 3, 6, 9, 6, 1,\n",
              "       7, 5, 4, 4, 7, 2, 8, 2, 2, 5, 7, 9, 5, 4, 8, 8, 4, 9, 0, 8, 9, 8,\n",
              "       0, 1, 2, 3, 4, 5, 6, 7, 8, 9, 0, 1, 2, 3, 4, 5, 6, 9, 0, 1, 2, 3,\n",
              "       4, 5, 6, 7, 8, 9, 0, 9, 5, 5, 6, 5, 0, 9, 8, 9, 8, 4, 1, 7, 7, 3,\n",
              "       5, 1, 0, 0, 2, 2, 7, 8, 2, 0, 1, 2, 6, 3, 3, 7, 3, 3, 4, 6, 6, 6,\n",
              "       4, 9, 1, 5, 0, 9, 5, 2, 8, 0, 1, 7, 6, 3, 2, 1, 7, 4, 6, 3, 1, 3,\n",
              "       9, 1, 7, 6, 8, 4, 3, 1, 4, 0, 5, 3, 6, 9, 6, 1, 7, 5, 4, 4, 7, 2,\n",
              "       2, 5, 7, 9, 5, 4, 4, 9, 0, 8, 9, 8, 0, 1, 2, 3, 4, 5, 6, 7, 8, 9,\n",
              "       0, 1, 2, 3, 4, 5, 6, 7, 8, 9, 0, 1, 2, 3, 4, 5, 6, 7, 8, 9, 0, 9,\n",
              "       5, 5, 6, 5, 0, 9, 8, 9, 8, 4, 1, 7, 7, 3, 5, 1, 0, 0, 2, 2, 7, 8,\n",
              "       2, 0, 1, 2, 6, 3, 3, 7, 3, 3, 4, 6, 6, 6, 4, 9, 1, 5, 0, 9, 5, 2,\n",
              "       8, 2, 0, 0, 1, 7, 6, 3, 2, 1, 7, 4, 6, 3, 1, 3, 9, 1, 7, 6, 8, 4,\n",
              "       3, 1, 4, 0, 5, 3, 6, 9, 6, 1, 7, 5, 4, 4, 7, 2, 8, 2, 2, 5, 7, 9,\n",
              "       5, 4, 8, 8, 4, 9, 0, 8, 9, 8])"
            ]
          },
          "metadata": {
            "tags": []
          },
          "execution_count": 29
        }
      ]
    },
    {
      "cell_type": "code",
      "metadata": {
        "colab": {
          "base_uri": "https://localhost:8080/"
        },
        "id": "JBaXZHMs9OQE",
        "outputId": "9ad0ee67-cb53-4c38-832b-f5741b8cf398"
      },
      "source": [
        "newsvc.score(X_test,y_test)"
      ],
      "execution_count": 30,
      "outputs": [
        {
          "output_type": "execute_result",
          "data": {
            "text/plain": [
              "0.9527027027027027"
            ]
          },
          "metadata": {
            "tags": []
          },
          "execution_count": 30
        }
      ]
    }
  ]
}